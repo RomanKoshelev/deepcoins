{
 "cells": [
  {
   "cell_type": "markdown",
   "metadata": {},
   "source": [
    "# Generator"
   ]
  },
  {
   "cell_type": "code",
   "execution_count": 1,
   "metadata": {},
   "outputs": [],
   "source": [
    "%matplotlib inline\n",
    "import numpy as np\n",
    "import os\n",
    "from timeit import default_timer as timer\n",
    "import image_tools as imt\n",
    "from augmentator import Augmentator\n",
    "from generator import Generator"
   ]
  },
  {
   "cell_type": "code",
   "execution_count": 2,
   "metadata": {},
   "outputs": [],
   "source": [
    "image_shape = [128,128,1]\n",
    "images_dir  = \"/netforge/datasets/private/roman/coins/2017-11-29/images/\"\n",
    "dataset_dir = \"/netforge/datasets/private/roman/coins/2017-11-29/datasets/\""
   ]
  },
  {
   "cell_type": "markdown",
   "metadata": {},
   "source": [
    "## Generate"
   ]
  },
  {
   "cell_type": "code",
   "execution_count": null,
   "metadata": {},
   "outputs": [
    {
     "name": "stderr",
     "output_type": "stream",
     "text": [
      "  2%|▏         | 6/300 [00:15<13:01,  2.66s/it]"
     ]
    }
   ],
   "source": [
    "%%time \n",
    "gen = Generator()\n",
    "try:\n",
    "    start = timer()\n",
    "    gen.generate(\n",
    "        images_path = images_dir, \n",
    "        image_shape = image_shape, \n",
    "        augmentator = Augmentator(), \n",
    "        image_num   = 500,\n",
    "        aug_num     = 300, \n",
    "    )\n",
    "    t = timer() - start\n",
    "    augmented = gen.augmented\n",
    "    n = augmented.shape[0]*augmented.shape[1]\n",
    "    print(\"Augmented  : %d images\" % n)\n",
    "    print(\"Performance: %.1f img/sec\" % (n/t))\n",
    "    print(\"Augmented  :\", augmented.dtype, augmented.shape, augmented.nbytes/1024/1024, \"MB\")\n",
    "except KeyboardInterrupt:\n",
    "    print(\"Interrupted\")\n",
    "print(\"-\"*50)"
   ]
  },
  {
   "cell_type": "markdown",
   "metadata": {},
   "source": [
    "## Save"
   ]
  },
  {
   "cell_type": "code",
   "execution_count": null,
   "metadata": {},
   "outputs": [],
   "source": [
    "%%time\n",
    "dataset_path = gen.save(dataset_dir)\n",
    "print(\"Dataset:\", dataset_path)"
   ]
  },
  {
   "cell_type": "markdown",
   "metadata": {},
   "source": [
    "## Load"
   ]
  },
  {
   "cell_type": "code",
   "execution_count": null,
   "metadata": {},
   "outputs": [],
   "source": [
    "%%time\n",
    "try:\n",
    "    del gen\n",
    "except:\n",
    "    pass\n",
    "data = np.load(dataset_path)\n",
    "print(\"Data:\", data.dtype, data.shape, data.nbytes/1024/1024, \"MB\")\n",
    "print(\"-\"*50)"
   ]
  },
  {
   "cell_type": "markdown",
   "metadata": {},
   "source": [
    "## Show"
   ]
  },
  {
   "cell_type": "code",
   "execution_count": null,
   "metadata": {
    "scrolled": false
   },
   "outputs": [],
   "source": [
    "images = data[7,:24]\n",
    "images = imt.uint8_to_float32(images)\n",
    "imt.plot(images, 6)"
   ]
  },
  {
   "cell_type": "code",
   "execution_count": null,
   "metadata": {},
   "outputs": [],
   "source": []
  }
 ],
 "metadata": {
  "kernelspec": {
   "display_name": "Python 3",
   "language": "python",
   "name": "python3"
  },
  "language_info": {
   "codemirror_mode": {
    "name": "ipython",
    "version": 3
   },
   "file_extension": ".py",
   "mimetype": "text/x-python",
   "name": "python",
   "nbconvert_exporter": "python",
   "pygments_lexer": "ipython3",
   "version": "3.5.2"
  }
 },
 "nbformat": 4,
 "nbformat_minor": 2
}
