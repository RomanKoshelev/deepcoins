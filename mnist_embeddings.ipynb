{
 "cells": [
  {
   "cell_type": "markdown",
   "metadata": {},
   "source": [
    "http://users.eecs.northwestern.edu/~jwa368/pdfs/deep_ranking.pdf\n",
    "\n",
    "https://github.com/paucarre/tiefvision\n",
    "\n",
    "https://www.cs.cornell.edu/~kb/publications/SIG15ProductNet.pdf\n",
    "\n",
    "https://github.com/maestrojeong/t-SNE/blob/master/t-SNE.ipynb\n",
    "\n",
    "http://cs.stanford.edu/people/karpathy/cnnembed/\n",
    "\n",
    "http://scikit-learn.org/stable/modules/manifold.html#t-sne"
   ]
  },
  {
   "cell_type": "code",
   "execution_count": 1,
   "metadata": {},
   "outputs": [],
   "source": [
    "import tensorflow as tf\n",
    "import numpy as np\n",
    "import math\n",
    "import matplotlib.pyplot as plt\n",
    "from IPython.display import clear_output\n",
    "\n",
    "%matplotlib inline"
   ]
  },
  {
   "cell_type": "markdown",
   "metadata": {},
   "source": [
    "# MNIST data"
   ]
  },
  {
   "cell_type": "code",
   "execution_count": 2,
   "metadata": {},
   "outputs": [
    {
     "name": "stdout",
     "output_type": "stream",
     "text": [
      "Extracting /tmp/data/train-images-idx3-ubyte.gz\n",
      "Extracting /tmp/data/train-labels-idx1-ubyte.gz\n",
      "Extracting /tmp/data/t10k-images-idx3-ubyte.gz\n",
      "Extracting /tmp/data/t10k-labels-idx1-ubyte.gz\n",
      "(55000, 784)\n",
      "(55000, 10)\n"
     ]
    }
   ],
   "source": [
    "# Import MNIST data\n",
    "from tensorflow.examples.tutorials.mnist import input_data\n",
    "mnist = input_data.read_data_sets(\"/tmp/data/\", one_hot=True)\n",
    "\n",
    "data_size = len(mnist.train.images)\n",
    "\n",
    "print(np.shape(mnist.train.images))\n",
    "print(np.shape(mnist.train.labels))"
   ]
  },
  {
   "cell_type": "code",
   "execution_count": 3,
   "metadata": {},
   "outputs": [
    {
     "name": "stdout",
     "output_type": "stream",
     "text": [
      "[[ 1.  0.  0.  0.  0.  0.  0.  0.  0.  0.]\n",
      " [ 0.  0.  0.  0.  1.  0.  0.  0.  0.  0.]\n",
      " [ 0.  0.  1.  0.  0.  0.  0.  0.  0.  0.]\n",
      " [ 0.  1.  0.  0.  0.  0.  0.  0.  0.  0.]]\n",
      "[[ 0.  0.  0. ...,  0.  0.  0.]\n",
      " [ 0.  0.  0. ...,  0.  0.  0.]\n",
      " [ 0.  0.  0. ...,  0.  0.  0.]\n",
      " ..., \n",
      " [ 0.  0.  0. ...,  0.  0.  0.]\n",
      " [ 0.  0.  0. ...,  0.  0.  0.]\n",
      " [ 0.  0.  0. ...,  0.  0.  0.]]\n"
     ]
    },
    {
     "data": {
      "image/png": "[encoded data removed]",
      "text/plain": [
       "<matplotlib.figure.Figure at 0x7f19ea192b00>"
      ]
     },
     "metadata": {},
     "output_type": "display_data"
    }
   ],
   "source": [
    "def get_batch(bs):\n",
    "    idx1 = np.random.choice(data_size, bs)\n",
    "    idx2 = np.random.choice(data_size, bs)\n",
    "    \n",
    "    img1 = mnist.train.images[idx1]\n",
    "    img2 = mnist.train.images[idx2]\n",
    "    cls1 = mnist.train.labels[idx1]\n",
    "    cls2 = mnist.train.labels[idx2]\n",
    "        \n",
    "    return img1, cls1, img2, cls2\n",
    "\n",
    "# test data\n",
    "img,cls,_,_ = get_batch(4)\n",
    "img = img.reshape([4*28,28])\n",
    "plt.imshow(img);\n",
    "print(cls)\n",
    "print(img)"
   ]
  },
  {
   "cell_type": "markdown",
   "metadata": {},
   "source": [
    "# Network\n",
    "loss: https://academo.org/demos/3d-surface-plotter/?expression=abs(x)%2Fabs(y)%2Babs(y)%2Fabs(x)&xRange=-50%2C+50&yRange=-50%2C+50&resolution=25\n"
   ]
  },
  {
   "cell_type": "code",
   "execution_count": 47,
   "metadata": {},
   "outputs": [],
   "source": [
    "input_size = 28*28\n",
    "class_num = 10\n",
    "\n",
    "embedding_size = 2\n",
    "\n",
    "tf.reset_default_graph()\n",
    "graph = tf.Graph()\n",
    "\n",
    "with graph.as_default():\n",
    "    \n",
    "    image1 = tf.placeholder(tf.float32, [None, input_size])\n",
    "    image2 = tf.placeholder(tf.float32, [None, input_size])\n",
    "    class1 = tf.placeholder(tf.float32, [None, class_num])\n",
    "    class2 = tf.placeholder(tf.float32, [None, class_num])\n",
    "\n",
    "    def Network1(inputs):\n",
    "        embeddings = tf.Variable(tf.random_uniform([input_size, embedding_size], -1.0, 1.0), \"embeddings\")\n",
    "        outputs = tf.matmul(inputs, embeddings)\n",
    "        return outputs\n",
    "    \n",
    "    def Network2(inputs):\n",
    "        inputs =  tf.reshape(inputs, [-1, 28, 28, 1])\n",
    "        l = tf.layers.conv2d(\n",
    "            inputs=inputs,\n",
    "            filters=16,\n",
    "            kernel_size=[3, 3],\n",
    "            padding=\"same\",\n",
    "            activation=tf.nn.relu)\n",
    "        l = tf.layers.max_pooling2d(l, pool_size=[2, 2], strides=2)\n",
    "        l = tf.layers.conv2d(\n",
    "            inputs=l,\n",
    "            filters=64,\n",
    "            kernel_size=[3, 3],\n",
    "            padding=\"same\",\n",
    "            activation=tf.nn.relu)\n",
    "        l = tf.layers.max_pooling2d(l, pool_size=[2, 2], strides=2)\n",
    "        l = tf.contrib.layers.flatten(l)\n",
    "        l = tf.layers.dense(l, units=200, activation=tf.nn.relu)\n",
    "        l = tf.layers.dense(l, units=embedding_size)\n",
    "        return l\n",
    "\n",
    "        \n",
    "    def Network3(inputs):\n",
    "        l =  tf.reshape(inputs, [-1, 28, 28, 1])\n",
    "        \n",
    "        l = tf.layers.conv2d(\n",
    "            inputs=l,\n",
    "            filters=16,\n",
    "            kernel_size=[3, 3],\n",
    "            padding=\"same\",\n",
    "            activation=tf.nn.relu)\n",
    "        l = tf.layers.max_pooling2d(l, pool_size=[2, 2], strides=2)\n",
    "        \n",
    "        l = tf.layers.conv2d(\n",
    "            inputs=l,\n",
    "            filters=32,\n",
    "            kernel_size=[3, 3],\n",
    "            padding=\"same\",\n",
    "            activation=tf.nn.relu)\n",
    "        l = tf.layers.max_pooling2d(l, pool_size=[2, 2], strides=2)\n",
    "        \n",
    "        l = tf.layers.conv2d(\n",
    "            inputs=l,\n",
    "            filters=64,\n",
    "            kernel_size=[3, 3],\n",
    "            padding=\"same\",\n",
    "            activation=tf.nn.relu)\n",
    "        l = tf.layers.max_pooling2d(l, pool_size=[2, 2], strides=2)\n",
    "        \n",
    "        l = tf.contrib.layers.flatten(l)\n",
    "        l = tf.layers.dense(l, units=200, activation=tf.nn.relu)\n",
    "        l = tf.layers.dense(l, units=embedding_size)\n",
    "        return l\n",
    "\n",
    "    def Network4(inputs):\n",
    "        l = inputs\n",
    "        l = tf.contrib.layers.flatten(l)\n",
    "        # l = tf.layers.dense(l, units=200, activation=tf.nn.relu)\n",
    "        l = tf.layers.dense(l, units=300, activation=tf.nn.relu)\n",
    "        l = tf.layers.dense(l, units=embedding_size)\n",
    "        return l\n",
    "\n",
    "    def Loss1(e1, c1, e2, c2):\n",
    "        e = 1e-6\n",
    "        same = tf.reduce_sum(c1*c2, axis=1)\n",
    "        d = tf.sqrt(tf.reduce_sum((e1-e2)**2, axis=1) + e)\n",
    "        l_same = 0 * tf.reduce_mean(same*d)\n",
    "        l_diff = 100 * tf.reduce_mean((1-same)/d)\n",
    "        l_dist = 1 * (tf.reduce_mean(d) - 1)**2\n",
    "        return l_same + l_diff + l_dist\n",
    "\n",
    "    \n",
    "    Embedding = Network3\n",
    "    Loss = Loss1\n",
    "    \n",
    "    embed1 = Embedding(image1)\n",
    "    embed2 = Embedding(image2)    \n",
    "    \n",
    "    loss = Loss(embed1,class1,embed2,class2)\n",
    "    optimizer = tf.train.AdamOptimizer(0.1).minimize(loss)"
   ]
  },
  {
   "cell_type": "markdown",
   "metadata": {},
   "source": [
    "# Let's train"
   ]
  },
  {
   "cell_type": "code",
   "execution_count": 48,
   "metadata": {},
   "outputs": [
    {
     "data": {
      "image/png": "[encoded data removed]",
      "text/plain": [
       "<matplotlib.figure.Figure at 0x7f19c44d5ef0>"
      ]
     },
     "metadata": {},
     "output_type": "display_data"
    },
    {
     "name": "stdout",
     "output_type": "stream",
     "text": [
      "CPU times: user 32.8 s, sys: 8.6 s, total: 41.4 s\n",
      "Wall time: 30.1 s\n"
     ]
    }
   ],
   "source": [
    "%%time\n",
    "num_steps = 300\n",
    "batch_size = 128\n",
    "\n",
    "with tf.Session(graph=graph) as sess:\n",
    "    try:\n",
    "        tf.global_variables_initializer().run()\n",
    "        print('Initialized')\n",
    "        average_loss = 0\n",
    "\n",
    "        history = []\n",
    "        for step in range(num_steps+1):\n",
    "            img1, cls1, img2, cls2 = get_batch(batch_size)\n",
    "            _, current_loss = sess.run([optimizer, loss], feed_dict = {\n",
    "                image1 : img1,\n",
    "                image2 : img2,\n",
    "                class1 : cls1,\n",
    "                class2 : cls2,\n",
    "\n",
    "            })\n",
    "            average_loss += current_loss\n",
    "            every = 10\n",
    "            if step % every == 0:\n",
    "                average_loss = average_loss / every\n",
    "                history.append([step,average_loss])\n",
    "                clear_output(True)\n",
    "                plt.yscale('log')\n",
    "                plt.plot(*zip(*history),marker='.')\n",
    "                plt.show()\n",
    "                # print(\"step:%4d,  loss: %.2e\"%(step, average_loss))\n",
    "                average_loss = 0\n",
    "    except KeyboardInterrupt:\n",
    "        pass\n",
    "    img, img_labels, _, _ = get_batch(1000)\n",
    "    labels = np.argmax(img_labels, axis=1)\n",
    "    embeds = sess.run([embed1], feed_dict = {image1 : img1})[0]"
   ]
  },
  {
   "cell_type": "markdown",
   "metadata": {},
   "source": [
    "# SVD Visualization"
   ]
  },
  {
   "cell_type": "code",
   "execution_count": 45,
   "metadata": {},
   "outputs": [
    {
     "name": "stdout",
     "output_type": "stream",
     "text": [
      "points (70, 2)\n"
     ]
    },
    {
     "data": {
      "image/png": "[encoded data removed]",
      "text/plain": [
       "<matplotlib.figure.Figure at 0x7f19d07751d0>"
      ]
     },
     "metadata": {},
     "output_type": "display_data"
    }
   ],
   "source": [
    "from sklearn.manifold import TSNE\n",
    "\n",
    "num_points = 70\n",
    "points = embeds[:num_points]\n",
    "\n",
    "print('points', np.shape(points))\n",
    "\n",
    "# two_d_embeddings = np.linalg.svd(points)[0]\n",
    "two_d_embeddings = points\n",
    "\n",
    "plt.figure(figsize=(10,10))\n",
    "\n",
    "for i in range(num_points):\n",
    "    x, y = two_d_embeddings[i, :2]\n",
    "    plt.scatter(x, y)\n",
    "    plt.annotate(labels[i], xy=(x, y), xytext=(5, 2), textcoords=\"offset points\",\n",
    "    ha=\"right\", va=\"bottom\")\n",
    "plt.show();"
   ]
  },
  {
   "cell_type": "markdown",
   "metadata": {},
   "source": [
    "# TSNE Visualization"
   ]
  },
  {
   "cell_type": "code",
   "execution_count": 41,
   "metadata": {},
   "outputs": [
    {
     "name": "stderr",
     "output_type": "stream",
     "text": [
      "/usr/local/lib/python3.5/dist-packages/sklearn/decomposition/pca.py:501: RuntimeWarning: divide by zero encountered in true_divide\n",
      "  self.explained_variance_ / total_var.sum()\n"
     ]
    },
    {
     "data": {
      "image/png": "[encoded data removed]",
      "text/plain": [
       "<matplotlib.figure.Figure at 0x7f19802e60f0>"
      ]
     },
     "metadata": {},
     "output_type": "display_data"
    }
   ],
   "source": [
    "from sklearn.manifold import TSNE\n",
    "\n",
    "points = embeds[:num_points]\n",
    "\n",
    "two_d_embeddings = TSNE(perplexity=10, n_components=2, init=\"pca\", n_iter=5000).fit_transform(points)\n",
    "\n",
    "plt.figure(figsize=(10,10))\n",
    "\n",
    "for i in range(num_points):\n",
    "    x, y = two_d_embeddings[i, :2]\n",
    "    plt.scatter(x, y)\n",
    "    plt.annotate(labels[i], xy=(x, y), xytext=(5, 2), textcoords=\"offset points\",\n",
    "    ha=\"right\", va=\"bottom\")\n",
    "plt.show();"
   ]
  },
  {
   "cell_type": "markdown",
   "metadata": {},
   "source": [
    "# Test similarities"
   ]
  },
  {
   "cell_type": "code",
   "execution_count": null,
   "metadata": {},
   "outputs": [],
   "source": []
  }
 ],
 "metadata": {
  "kernelspec": {
   "display_name": "Python 3",
   "language": "python",
   "name": "python3"
  },
  "language_info": {
   "codemirror_mode": {
    "name": "ipython",
    "version": 3
   },
   "file_extension": ".py",
   "mimetype": "text/x-python",
   "name": "python",
   "nbconvert_exporter": "python",
   "pygments_lexer": "ipython3",
   "version": "3.5.2"
  }
 },
 "nbformat": 4,
 "nbformat_minor": 2
}
