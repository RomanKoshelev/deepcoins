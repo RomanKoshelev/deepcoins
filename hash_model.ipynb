{
 "cells": [
  {
   "cell_type": "markdown",
   "metadata": {},
   "source": [
    "# Hash model\n",
    "- https://papers.nips.cc/paper/4808-hamming-distance-metric-learning.pdf\n",
    "- https://arxiv.org/pdf/1702.00758.pdf\n",
    "- https://stackoverflow.com/questions/37479119/doing-pairwise-distance-computation-with-tensorflow"
   ]
  },
  {
   "cell_type": "code",
   "execution_count": 1,
   "metadata": {},
   "outputs": [],
   "source": [
    "# TODO: implement HashNet loss from https://arxiv.org/pdf/1702.00758.pdf\n",
    "# TODO: Use triplets\n",
    "\n",
    "import tensorflow as tf\n",
    "import numpy as np\n",
    "\n",
    "try:\n",
    "    if global_run_tests:\n",
    "        pass\n",
    "except:\n",
    "    global_run_tests = True\n",
    "_hashmod_grt = global_run_tests\n",
    "global_run_tests = False\n",
    "\n",
    "%run dataset.ipynb\n",
    "%run visualisation.ipynb\n",
    "%run augmentator.ipynb\n",
    "\n",
    "global_run_tests = _hashmod_grt\n",
    "\n",
    "_hash_model = None"
   ]
  },
  {
   "cell_type": "code",
   "execution_count": 29,
   "metadata": {},
   "outputs": [],
   "source": [
    "class HashModel():\n",
    "    ScopeName = \"hashing\"\n",
    "    \n",
    "    def __init__(self, dataset, augmentator, out_dims, margin):\n",
    "        self.data       = dataset\n",
    "        self._aug       = augmentator\n",
    "        self.out_dims   = out_dims\n",
    "        self._session   = None\n",
    "        self._graph     = None\n",
    "        self._margin    = margin\n",
    "        \n",
    "    def _make_nn(self, images, out_dim, reuse):\n",
    "        def conv2d_maxpool(inputs, filters, name, reuse, kernel_size=[3,3], padding=\"same\", activation=tf.nn.relu):\n",
    "            l = tf.layers.conv2d(\n",
    "                inputs      = inputs,\n",
    "                filters     = filters,\n",
    "                kernel_size = kernel_size,\n",
    "                padding     = padding,\n",
    "                activation  = tf.nn.relu,\n",
    "                reuse       = reuse,\n",
    "                name        = name\n",
    "            )\n",
    "            l = tf.layers.max_pooling2d(l, pool_size=[2, 2], strides=2)\n",
    "            return l\n",
    "        \n",
    "        l = images\n",
    "        l = conv2d_maxpool(l, 16,  reuse=reuse, name='conv1')\n",
    "        l = conv2d_maxpool(l, 32,  reuse=reuse, name='conv2')\n",
    "        l = conv2d_maxpool(l, 64,  reuse=reuse, name='conv3')\n",
    "        l = conv2d_maxpool(l, 128, reuse=reuse, name='conv4')\n",
    "        l = tf.contrib.layers.flatten(l)\n",
    "        l = tf.layers.dense(l, units=300,     activation=tf.nn.relu, reuse=reuse, name='fc1')\n",
    "        l = tf.layers.dense(l, units=out_dim, activation=tf.nn.tanh, reuse=reuse, name='fc2')\n",
    "        return l\n",
    "\n",
    "    def _make_loss(self, out1, out2, labels):\n",
    "        inner_prod = tf.reduce_sum(tf.multiply(out1, out2), axis=1)\n",
    "        distance = (self.out_dims - inner_prod)/2\n",
    "        positive_loss = distance\n",
    "        negative_loss = tf.nn.relu(self._margin - distance)\n",
    "        final_loss = labels*positive_loss + (1.-labels)*negative_loss\n",
    "        final_loss = tf.reduce_mean(final_loss)\n",
    "        return final_loss\n",
    "\n",
    "    def build(self):\n",
    "        tf.reset_default_graph()\n",
    "        self._graph = tf.Graph()\n",
    "        image_shape = self.data.image_shape\n",
    "        data_size   = self.data.data_size\n",
    "        with self._graph.as_default(), tf.name_scope(self.ScopeName), tf.device('/gpu:0'):\n",
    "            \n",
    "            # placeholders\n",
    "            self.image1_pl = tf.placeholder(dtype=tf.float32, shape=[None,]+image_shape, name='image1')\n",
    "            self.image2_pl = tf.placeholder(dtype=tf.float32, shape=[None,]+image_shape, name='image2')\n",
    "            self.labels_pl = tf.placeholder(dtype=tf.float32, shape=[None,], name='labels')\n",
    "            self.lr_pl     = tf.placeholder(dtype=tf.float32, name='lr')\n",
    "\n",
    "            # network\n",
    "            self.nn_out1   = self._make_nn(self.image1_pl, self.out_dims, reuse=False)\n",
    "            self.nn_out2   = self._make_nn(self.image2_pl, self.out_dims, reuse=True)\n",
    "            \n",
    "            # operations\n",
    "            self.loss_op   = self._make_loss(self.nn_out1, self.nn_out2, self.labels_pl)\n",
    "            self.train_op  = tf.train.AdamOptimizer(self.lr_pl).minimize(self.loss_op)\n",
    "            self.init_op   = tf.global_variables_initializer()\n",
    "            \n",
    "        self._session = tf.Session(graph=self._graph)\n",
    "        self._session.run(self.init_op)\n",
    "        \n",
    "    def train(self, step_num, batch_size, learning_rate, log_every=10):\n",
    "        def augment(imgs):\n",
    "            augmented = np.zeros_like(imgs)\n",
    "            for i in range(len(imgs)):\n",
    "                augmented[i] = self._aug.augment(imgs[i])\n",
    "            return augmented\n",
    "           \n",
    "        try:\n",
    "            losses = []\n",
    "            for step in range(step_num):\n",
    "                img1, img2, labels = self.data.get_next_batch(batch_size, self._aug.augment)\n",
    "                labels = labels[:,1]\n",
    "                _, loss = self._session.run([self.train_op, self.loss_op], feed_dict={\n",
    "                    self.image1_pl: img1,\n",
    "                    self.image2_pl: img2,\n",
    "                    self.labels_pl: labels,\n",
    "                    self.lr_pl    : learning_rate,\n",
    "                })\n",
    "                losses.append(loss)\n",
    "                if step % log_every == log_every-1:\n",
    "                    show_losses(losses, step, step_num)\n",
    "        except KeyboardInterrupt:\n",
    "            pass\n",
    "        show_losses(losses, step, step_num)\n",
    "\n",
    "    def save(self, path):\n",
    "        with self._graph.as_default(), tf.name_scope(self.ScopeName):\n",
    "            saver = tf.train.Saver()\n",
    "        saver.save(self._session, path)\n",
    "        \n",
    "    def restore(self, path):\n",
    "        with self._graph.as_default(), tf.name_scope(self.ScopeName):\n",
    "            saver = tf.train.Saver()\n",
    "        saver.restore(self._session, path)        \n",
    "    \n",
    "    def get_hash(self, imgs, batch_size=100):\n",
    "        hashes = np.zeros(shape=[len(imgs), self.out_dims])\n",
    "        bs = min(len(imgs), batch_size)\n",
    "        for i in range(len(imgs)//bs):\n",
    "            batch = imgs[i*bs:(i+1)*bs,:]\n",
    "            hashes[i*bs:(i+1)*bs,:] = self._session.run(self.nn_out1, feed_dict = {self.image1_pl : batch})\n",
    "        return hashes"
   ]
  },
  {
   "cell_type": "markdown",
   "metadata": {},
   "source": [
    "## Create model"
   ]
  },
  {
   "cell_type": "code",
   "execution_count": 30,
   "metadata": {},
   "outputs": [
    {
     "name": "stdout",
     "output_type": "stream",
     "text": [
      "CPU times: user 4.26 s, sys: 116 ms, total: 4.38 s\n",
      "Wall time: 4.31 s\n"
     ]
    }
   ],
   "source": [
    "%%time\n",
    "def create_model(image_shape, data_size, out_dims, aug_num):\n",
    "    data = Dataset(image_shape)\n",
    "    data.load(_dataset_path, data_size)\n",
    "    aug  = Augmentator(cache_size = aug_num)\n",
    "    \n",
    "    model = HashModel(data, aug, out_dims, margin=1)\n",
    "    model.build()\n",
    "    return model, data\n",
    "\n",
    "if global_run_tests:\n",
    "    _hash_model, _data = create_model(\n",
    "        image_shape = [128,128,1],\n",
    "        data_size   = 1000,\n",
    "        out_dims    = 32,\n",
    "        aug_num     = 100)"
   ]
  },
  {
   "cell_type": "markdown",
   "metadata": {},
   "source": [
    "## Train model"
   ]
  },
  {
   "cell_type": "code",
   "execution_count": 31,
   "metadata": {},
   "outputs": [
    {
     "data": {
      "image/png": "[encoded data removed]",
      "text/plain": [
       "<matplotlib.figure.Figure at 0x7f7b3b6107f0>"
      ]
     },
     "metadata": {},
     "output_type": "display_data"
    },
    {
     "name": "stdout",
     "output_type": "stream",
     "text": [
      "CPU times: user 53.9 s, sys: 3.28 s, total: 57.2 s\n",
      "Wall time: 53.8 s\n"
     ]
    }
   ],
   "source": [
    "%%time\n",
    "def test_train_model(model, step_num, batch_size, learning_rate):\n",
    "    model.train(step_num=step_num, batch_size=batch_size, learning_rate=learning_rate)\n",
    "    model.save(\"data/hash_model/001/\")\n",
    "    \n",
    "if global_run_tests:\n",
    "    test_train_model(\n",
    "        model         = _hash_model,\n",
    "        step_num      = 10000,\n",
    "        batch_size    = 32,\n",
    "        learning_rate = 1e-4)"
   ]
  },
  {
   "cell_type": "markdown",
   "metadata": {},
   "source": [
    "## Restore model"
   ]
  },
  {
   "cell_type": "code",
   "execution_count": 45,
   "metadata": {},
   "outputs": [
    {
     "name": "stdout",
     "output_type": "stream",
     "text": [
      "INFO:tensorflow:Restoring parameters from data/hash_model/001/\n"
     ]
    }
   ],
   "source": [
    "def restore_model(image_shape, data_size, out_dims, aug_num, path):\n",
    "    model,data = create_model(image_shape, data_size, out_dims, aug_num)\n",
    "    model.restore(path)\n",
    "    return model, data\n",
    "\n",
    "_hash_model, _data = restore_model(\n",
    "    image_shape = [128,128,1],\n",
    "    data_size   = 300,\n",
    "    out_dims    = 64,\n",
    "    aug_num     = 10,\n",
    "    path        = \"data/hash_model/001/\")"
   ]
  },
  {
   "cell_type": "markdown",
   "metadata": {},
   "source": [
    "## Test"
   ]
  },
  {
   "cell_type": "code",
   "execution_count": 19,
   "metadata": {},
   "outputs": [
    {
     "name": "stdout",
     "output_type": "stream",
     "text": [
      "[[-1.         -1.         -1.          1.         -1.         -1.          1.\n",
      "  -1.         -1.          0.99999994 -1.          1.         -1.         -1.\n",
      "   1.          1.          1.          1.          1.         -0.99999982\n",
      "   1.          1.          1.         -1.         -1.         -1.          1.\n",
      "   1.          1.         -1.         -1.         -0.99999988  1.         -1.\n",
      "   1.          1.         -0.99999988  1.          1.          1.         -1.\n",
      "   1.          1.         -0.99999988  1.          0.99999994 -1.         -1.\n",
      "  -1.          1.          1.          1.          1.         -1.\n",
      "  -0.99999988 -1.         -1.         -1.          1.         -0.99999994\n",
      "   1.         -1.         -1.         -1.        ]\n",
      " [-1.         -1.         -1.          1.         -1.         -1.\n",
      "   0.99999994 -0.99999982 -1.          0.99999911 -1.          1.         -1.\n",
      "  -0.99999988  1.          1.          1.          0.99999994  1.\n",
      "  -0.99999851  1.          1.          1.         -1.         -1.         -1.\n",
      "   1.          0.99999988  1.         -1.         -0.99999994 -0.9999994\n",
      "   1.         -1.          1.          1.         -0.99999928  0.99999982\n",
      "   1.          1.         -1.          1.          1.         -0.99999958\n",
      "   1.          0.99999928 -1.         -1.         -0.99999982  1.          1.\n",
      "   1.          1.         -1.         -0.99999928 -0.99999988 -1.         -1.\n",
      "   1.         -0.9999997   1.         -1.         -1.         -1.        ]]\n",
      "0 -> 0001001001010011111011100011100010110111011011000111100000101000 -> 9\n",
      "1 -> 0001001001010011111011100011100010110111011011000111100000101000 -> 9\n",
      "2 -> 0001001001010011111011100011100010110111011011000111100000101000 -> 9\n",
      "3 -> 0001001001010011111011100011100010110111011011000111100000101000 -> 9\n",
      "4 -> 0001001001010011111011100011100010110111011011000111100000101000 -> 9\n",
      "5 -> 0001001001010011111011100011100010110111011011000111100000101000 -> 9\n",
      "6 -> 0001001001010011111011100011100010110111011011000111100000101000 -> 9\n",
      "7 -> 0001001001010011111011100011100010110111011011000111100000101000 -> 9\n",
      "8 -> 0001001001010011111011100011100010110111011011000111100000101000 -> 9\n",
      "9 -> 0001001001010011111011100011100010110111011011000111100000101000 -> 9\n"
     ]
    }
   ],
   "source": [
    "# todo -- get batch and show outputs\n",
    "# binarize outputs\n",
    "# build database\n",
    "\n",
    "images = _data.test_images[:10]\n",
    "outputs = _hash_model.get_hash(images)\n",
    "aug  = Augmentator(cache_size = 10)\n",
    "\n",
    "# print(images.shape)\n",
    "# print(outputs.shape)\n",
    "\n",
    "print(outputs[:2])\n",
    "\n",
    "_database = {}\n",
    "\n",
    "def get_code(v):\n",
    "    v = (np.sign(v)+1)/2\n",
    "    c = \"\".join([\"%d\" % f for f in v])\n",
    "    return c\n",
    "    \n",
    "for i, output in enumerate(outputs):\n",
    "    code = get_code(output)\n",
    "    _database[code] = i\n",
    "\n",
    "# print(_database)\n",
    "\n",
    "def augment_batch(imgs, rate):\n",
    "    res = np.zeros_like(imgs)\n",
    "    for i in range(len(imgs)):\n",
    "        res[i] = aug.augment(imgs[i], use_cache= False, rate=rate)\n",
    "    return res\n",
    "\n",
    "targets = images # augment_batch(images, rate=.008)\n",
    "outputs = _hash_model.get_hash(targets)\n",
    "for i in range(len(images)):\n",
    "    code = get_code(outputs[i])\n",
    "    img_id = _database.get(code, None)\n",
    "    print(i, '->', code[:64], \"->\", img_id)"
   ]
  },
  {
   "cell_type": "code",
   "execution_count": null,
   "metadata": {},
   "outputs": [],
   "source": []
  }
 ],
 "metadata": {
  "kernelspec": {
   "display_name": "Python 3",
   "language": "python",
   "name": "python3"
  },
  "language_info": {
   "codemirror_mode": {
    "name": "ipython",
    "version": 3
   },
   "file_extension": ".py",
   "mimetype": "text/x-python",
   "name": "python",
   "nbconvert_exporter": "python",
   "pygments_lexer": "ipython3",
   "version": "3.5.2"
  }
 },
 "nbformat": 4,
 "nbformat_minor": 2
}
