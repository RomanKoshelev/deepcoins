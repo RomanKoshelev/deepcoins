{
 "cells": [
  {
   "cell_type": "markdown",
   "metadata": {},
   "source": [
    "# Hash model\n",
    "- https://papers.nips.cc/paper/4808-hamming-distance-metric-learning.pdf\n",
    "- https://arxiv.org/pdf/1702.00758.pdf\n",
    "- https://stackoverflow.com/questions/37479119/doing-pairwise-distance-computation-with-tensorflow"
   ]
  },
  {
   "cell_type": "code",
   "execution_count": 4,
   "metadata": {},
   "outputs": [],
   "source": [
    "import tensorflow as tf\n",
    "import numpy as np\n",
    "from scipy import spatial\n",
    "\n",
    "try:\n",
    "    if global_run_tests:\n",
    "        pass\n",
    "except:\n",
    "    global_run_tests = True\n",
    "_hashmod_grt = global_run_tests\n",
    "global_run_tests = False\n",
    "\n",
    "%run dataset.ipynb\n",
    "%run visualisation.ipynb\n",
    "%run augmentator.ipynb\n",
    "\n",
    "global_run_tests = _hashmod_grt\n",
    "\n",
    "_hash_model = None"
   ]
  },
  {
   "cell_type": "code",
   "execution_count": 124,
   "metadata": {},
   "outputs": [],
   "source": [
    "class HashModel():\n",
    "    def __init__(self, dataset, augmentator, out_dims):\n",
    "        self.data       = dataset\n",
    "        self._aug       = augmentator\n",
    "        self.out_dims   = out_dims\n",
    "        self._session   = None\n",
    "        self._graph     = None\n",
    "        \n",
    "    def _make_nn(self, images, out_dim, reuse):\n",
    "        def conv2d_maxpool(inputs, filters, name, reuse, kernel_size=[3,3], padding=\"same\", activation=tf.nn.relu):\n",
    "            l = tf.layers.conv2d(\n",
    "                inputs      = inputs,\n",
    "                filters     = filters,\n",
    "                kernel_size = kernel_size,\n",
    "                padding     = padding,\n",
    "                activation  = tf.nn.relu,\n",
    "                reuse       = reuse,\n",
    "                name        = name\n",
    "            )\n",
    "            l = tf.layers.max_pooling2d(l, pool_size=[2, 2], strides=2)\n",
    "            return l\n",
    "        \n",
    "        l = images\n",
    "        l = conv2d_maxpool(l, 16,  reuse=reuse, name='conv1')\n",
    "        l = conv2d_maxpool(l, 32,  reuse=reuse, name='conv2')\n",
    "        l = conv2d_maxpool(l, 64,  reuse=reuse, name='conv3')\n",
    "        l = conv2d_maxpool(l, 128, reuse=reuse, name='conv4')\n",
    "        l = tf.contrib.layers.flatten(l)\n",
    "        l = tf.layers.dense(l, units=300,     activation=tf.nn.relu, reuse=reuse, name='fc1')\n",
    "        l = tf.layers.dense(l, units=out_dim, activation=tf.nn.tanh, reuse=reuse, name='fc2')\n",
    "        return l\n",
    "\n",
    "    def _make_loss(self, out1, out2, labels, margin):\n",
    "        l2_loss_pairs = tf.reduce_sum(tf.square(out1 - out2), axis=1)\n",
    "        positive_loss = l2_loss_pairs\n",
    "        negative_loss = tf.nn.relu(margin - l2_loss_pairs)\n",
    "        final_loss = labels*positive_loss + (1.-labels)*negative_loss\n",
    "        final_loss = tf.reduce_mean(final_loss)\n",
    "        return final_loss\n",
    "\n",
    "    def build(self, margin = 1):\n",
    "        tf.reset_default_graph()\n",
    "        self._graph = tf.Graph()\n",
    "        image_shape = self.data.image_shape\n",
    "        data_size   = self.data.data_size\n",
    "        with self._graph.as_default(), tf.name_scope('hashing'), tf.device('/gpu:0'):\n",
    "            \n",
    "            # placeholders\n",
    "            self.image1_pl = tf.placeholder(dtype=tf.float32, shape=[None,]+image_shape, name='image1')\n",
    "            self.image2_pl = tf.placeholder(dtype=tf.float32, shape=[None,]+image_shape, name='image2')\n",
    "            self.labels_pl = tf.placeholder(dtype=tf.float32, shape=[None,], name='labels')\n",
    "            self.lr_pl     = tf.placeholder(dtype=tf.float32, name='lr')\n",
    "\n",
    "            # network\n",
    "            self.nn_out1   = self._make_nn(self.image1_pl, self.out_dims, reuse=False)\n",
    "            self.nn_out2   = self._make_nn(self.image2_pl, self.out_dims, reuse=True)\n",
    "            \n",
    "            # operations\n",
    "            self.loss_op   = self._make_loss(self.nn_out1, self.nn_out2, self.labels_pl, margin=margin)\n",
    "            self.train_op  = tf.train.AdamOptimizer(self.lr_pl).minimize(self.loss_op)\n",
    "            self.init_op   = tf.global_variables_initializer()\n",
    "            \n",
    "        self._session = tf.Session(graph=self._graph)\n",
    "        self._session.run(self.init_op)\n",
    "        \n",
    "    def train(self, step_num, batch_size, learning_rate, log_every=10):\n",
    "        def augment(imgs):\n",
    "            augmented = np.zeros_like(imgs)\n",
    "            for i in range(len(imgs)):\n",
    "                augmented[i] = self._aug.augment(imgs[i])\n",
    "            return augmented\n",
    "           \n",
    "        try:\n",
    "            losses = []\n",
    "            for step in range(step_num):\n",
    "                img1, img2, labels = self.data.get_next_batch(batch_size, self._aug.augment)\n",
    "                labels = labels[:,1]\n",
    "                _, loss = self._session.run([self.train_op, self.loss_op], feed_dict={\n",
    "                    self.image1_pl: img1,\n",
    "                    self.image2_pl: img2,\n",
    "                    self.labels_pl: labels,\n",
    "                    self.lr_pl    : learning_rate,\n",
    "                })\n",
    "                losses.append(loss)\n",
    "                if step % log_every == log_every-1:\n",
    "                    show_losses(losses, step, step_num)\n",
    "        except KeyboardInterrupt:\n",
    "            pass\n",
    "        show_losses(losses, step, step_num)\n",
    "        \n",
    "    def embed_images(self, imgs, batch_size=100):\n",
    "        embeds = np.zeros(shape=[len(imgs), self.embed_dims])\n",
    "        bs = min(len(imgs), batch_size)\n",
    "        for i in range(len(imgs)//bs):\n",
    "            batch = imgs[i*bs:(i+1)*bs,:]\n",
    "            embeds[i*bs:(i+1)*bs,:] = self._session.run(self.embed_op, feed_dict = {self.images_pl : batch})\n",
    "        return embeds"
   ]
  },
  {
   "cell_type": "markdown",
   "metadata": {},
   "source": [
    "## Create model"
   ]
  },
  {
   "cell_type": "code",
   "execution_count": 129,
   "metadata": {},
   "outputs": [
    {
     "name": "stdout",
     "output_type": "stream",
     "text": [
      "CPU times: user 2.36 s, sys: 44 ms, total: 2.4 s\n",
      "Wall time: 2.39 s\n"
     ]
    }
   ],
   "source": [
    "%%time\n",
    "def create_model(image_shape, data_size, out_dims, aug_num):\n",
    "    data = Dataset(image_shape)\n",
    "    data.load(_dataset_path, data_size)\n",
    "    aug  = Augmentator(cache_size = aug_num)\n",
    "    \n",
    "    model = HashModel(data, aug, out_dims)\n",
    "    model.build()\n",
    "    return model\n",
    "\n",
    "if global_run_tests:\n",
    "    _hash_model = create_model(\n",
    "        image_shape = [128,128,1],\n",
    "        data_size   = 300,\n",
    "        out_dims    = 32,\n",
    "        aug_num     = 10)"
   ]
  },
  {
   "cell_type": "markdown",
   "metadata": {},
   "source": [
    "## Train model"
   ]
  },
  {
   "cell_type": "code",
   "execution_count": 131,
   "metadata": {},
   "outputs": [
    {
     "data": {
      "image/png": "[encoded data removed]",
      "text/plain": [
       "<matplotlib.figure.Figure at 0x7fce0412fb70>"
      ]
     },
     "metadata": {},
     "output_type": "display_data"
    },
    {
     "name": "stdout",
     "output_type": "stream",
     "text": [
      "CPU times: user 1h 10min 26s, sys: 44min 7s, total: 1h 54min 33s\n",
      "Wall time: 1h 5min 50s\n"
     ]
    }
   ],
   "source": [
    "%%time\n",
    "def test_train_model(model, step_num, batch_size, learning_rate):\n",
    "    model.train(step_num=step_num, batch_size=batch_size, learning_rate=learning_rate)\n",
    "\n",
    "if global_run_tests:\n",
    "    test_train_model(\n",
    "        model         = _hash_model,\n",
    "        step_num      = 10000,\n",
    "        batch_size    = 64,\n",
    "        learning_rate = 1e-4)"
   ]
  },
  {
   "cell_type": "code",
   "execution_count": 132,
   "metadata": {},
   "outputs": [
    {
     "name": "stdout",
     "output_type": "stream",
     "text": [
      "CPU times: user 1.82 s, sys: 48 ms, total: 1.86 s\n",
      "Wall time: 1.84 s\n"
     ]
    }
   ],
   "source": [
    "%%time\n",
    "def save_model(model, path):\n",
    "    with model._graph.as_default(), tf.name_scope('hashing'):\n",
    "        saver = tf.train.Saver()\n",
    "    saver.save(model._session, path)\n",
    "\n",
    "def restore_model(image_shape, embed_dims, aug_num, model_path):\n",
    "    model = create_model(image_shape, embed_dims, aug_num)\n",
    "    saver = tf.train.Saver(var_list=tf.get_collection(key=tf.GraphKeys.GLOBAL_VARIABLES))\n",
    "    saver.restore(model._session, path)\n",
    "    \n",
    "if global_run_tests:\n",
    "    save_model(_hash_model, \"data/hash_model/\")"
   ]
  },
  {
   "cell_type": "code",
   "execution_count": null,
   "metadata": {},
   "outputs": [],
   "source": [
    "# todo -- get batch and show outputs\n",
    "# binarize outputs\n",
    "# build database\n"
   ]
  }
 ],
 "metadata": {
  "kernelspec": {
   "display_name": "Python 3",
   "language": "python",
   "name": "python3"
  },
  "language_info": {
   "codemirror_mode": {
    "name": "ipython",
    "version": 3
   },
   "file_extension": ".py",
   "mimetype": "text/x-python",
   "name": "python",
   "nbconvert_exporter": "python",
   "pygments_lexer": "ipython3",
   "version": "3.5.2"
  }
 },
 "nbformat": 4,
 "nbformat_minor": 2
}
