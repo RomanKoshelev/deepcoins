{
 "cells": [
  {
   "cell_type": "code",
   "execution_count": null,
   "metadata": {},
   "outputs": [],
   "source": [
    "import os\n",
    "import numpy as np\n",
    "import cv2"
   ]
  },
  {
   "cell_type": "code",
   "execution_count": null,
   "metadata": {},
   "outputs": [],
   "source": [
    "def load_mnist_dataset(ndata):\n",
    "    ds = input_data.read_data_sets('/tmp/MNIST_data', one_hot=True)\n",
    "    return  (\n",
    "        [28, 28, 1],\n",
    "        len(ds.train.images) + len(ds.test.images),\n",
    "        ds.train.images[:ndata],\n",
    "        ds.train.labels[:ndata],\n",
    "        ds.test.images[:ndata],\n",
    "        ds.test.labels[:ndata])"
   ]
  },
  {
   "cell_type": "code",
   "execution_count": null,
   "metadata": {},
   "outputs": [],
   "source": [
    "def load_image_dataset(img_shape, path, ndata):\n",
    "    w = img_shape[0]\n",
    "    h = img_shape[1]\n",
    "    c = img_shape[2]\n",
    "    img_size = np.prod(img_shape)\n",
    "    \n",
    "    files  = os.listdir(path)[:2*ndata]\n",
    "    file_num = len(files)\n",
    "    assert file_num >= ndata, \"%s %s\" % (file_num, ndata)\n",
    "    \n",
    "    images = np.zeros([file_num, img_size])\n",
    "    labels = np.zeros([file_num, 1])\n",
    "    \n",
    "    for i,f in enumerate(files):\n",
    "        f = os.path.join(path, f)\n",
    "        img = cv2.imread(f) + .01\n",
    "        if c == 1:\n",
    "            img = np.max(img, axis=2)\n",
    "        img = cv2.resize(img, (w,h), interpolation = cv2.INTER_CUBIC).astype('float32')\n",
    "        norm = img.max()+.1\n",
    "        img = img.astype('float32') / norm        \n",
    "        images[i] = np.reshape(img, img_size)\n",
    "        labels[i,0] = 1\n",
    "    idx = list(range(file_num))\n",
    "    np.random.shuffle(idx)\n",
    "    images = images[idx]\n",
    "    labels = labels[idx]\n",
    "    return (\n",
    "        img_shape,\n",
    "        file_num,\n",
    "        images[:ndata],\n",
    "        labels[:ndata],\n",
    "        images[-ndata:],\n",
    "        labels[-ndata:])"
   ]
  },
  {
   "cell_type": "code",
   "execution_count": null,
   "metadata": {},
   "outputs": [],
   "source": []
  }
 ],
 "metadata": {
  "kernelspec": {
   "display_name": "Python 3",
   "language": "python",
   "name": "python3"
  },
  "language_info": {
   "codemirror_mode": {
    "name": "ipython",
    "version": 3
   },
   "file_extension": ".py",
   "mimetype": "text/x-python",
   "name": "python",
   "nbconvert_exporter": "python",
   "pygments_lexer": "ipython3",
   "version": "3.5.2"
  }
 },
 "nbformat": 4,
 "nbformat_minor": 2
}
