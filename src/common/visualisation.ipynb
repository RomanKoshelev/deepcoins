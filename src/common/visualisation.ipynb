{
 "cells": [
  {
   "cell_type": "code",
   "execution_count": null,
   "metadata": {},
   "outputs": [],
   "source": [
    "import numpy as np\n",
    "import matplotlib.pyplot as plt\n",
    "import itertools"
   ]
  },
  {
   "cell_type": "code",
   "execution_count": null,
   "metadata": {},
   "outputs": [],
   "source": [
    "def show_images(images, image_shape, rows, cols):\n",
    "    h = image_shape[0]\n",
    "    w = image_shape[1]\n",
    "\n",
    "    images = np.reshape(images, [-1, h*w])\n",
    "\n",
    "    n = rows*cols\n",
    "    img = images[:n]\n",
    "    img = np.reshape(img, [n*h, w])\n",
    "    sheet = np.zeros([rows*h, cols*w])\n",
    "\n",
    "    for i, j in itertools.product(range(rows), range(cols)):\n",
    "        H = (i*cols+j) * h\n",
    "        sheet[i*h:i*h+h, j*w:j*w+w] = img[H: H+h, 0:w]\n",
    "\n",
    "    plt.figure(figsize = (15,7))\n",
    "    plt.axis(\"off\")\n",
    "    plt.imshow(sheet, cmap='gray')\n",
    "    plt.show()"
   ]
  },
  {
   "cell_type": "code",
   "execution_count": null,
   "metadata": {},
   "outputs": [],
   "source": [
    "def show_losses(losses, step, step_num, mean_win=100):\n",
    "    def running_mean(x, N):\n",
    "        cumsum = np.cumsum(np.insert(x, 0, 0)) \n",
    "        return (cumsum[N:] - cumsum[:-N]) / N \n",
    "\n",
    "    if mean_win>0:\n",
    "        plt.plot(losses, 'c')\n",
    "        plt.plot(running_mean(losses, mean_win), 'b')\n",
    "    else:\n",
    "        plt.plot(losses)\n",
    "\n",
    "    plt.title(\"Step: %d/%d [%.0f%%], loss: %.2e\" % (\n",
    "        step+1, step_num, 100*(step+1)/step_num, losses[-1]))\n",
    "    clear_output(True)\n",
    "    plt.show()"
   ]
  },
  {
   "cell_type": "code",
   "execution_count": null,
   "metadata": {},
   "outputs": [],
   "source": []
  }
 ],
 "metadata": {
  "kernelspec": {
   "display_name": "Python 3",
   "language": "python",
   "name": "python3"
  },
  "language_info": {
   "codemirror_mode": {
    "name": "ipython",
    "version": 3
   },
   "file_extension": ".py",
   "mimetype": "text/x-python",
   "name": "python",
   "nbconvert_exporter": "python",
   "pygments_lexer": "ipython3",
   "version": "3.5.2"
  }
 },
 "nbformat": 4,
 "nbformat_minor": 2
}
