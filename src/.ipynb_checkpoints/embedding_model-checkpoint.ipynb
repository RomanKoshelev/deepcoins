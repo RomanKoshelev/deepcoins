{
 "cells": [
  {
   "cell_type": "markdown",
   "metadata": {},
   "source": [
    "# Embedding model"
   ]
  },
  {
   "cell_type": "code",
   "execution_count": 1,
   "metadata": {},
   "outputs": [],
   "source": [
    "import tensorflow as tf\n",
    "import numpy as np\n",
    "from scipy import spatial\n",
    "\n",
    "try:\n",
    "    if global_run_tests:\n",
    "        pass\n",
    "except:\n",
    "    global_run_tests = True\n",
    "_embmod_grt = global_run_tests\n",
    "global_run_tests = False\n",
    "\n",
    "%run dataset.ipynb\n",
    "%run visualisation.ipynb\n",
    "%run tsne.ipynb\n",
    "\n",
    "global_run_tests = _embmod_grt\n",
    "\n",
    "_embed_model = None"
   ]
  },
  {
   "cell_type": "code",
   "execution_count": 2,
   "metadata": {},
   "outputs": [],
   "source": [
    "class EmbeddingModel():\n",
    "    GpuMemoryFraction = .3\n",
    "    \n",
    "    def __init__(self, dataset, embed_dims, batch_size):\n",
    "        self.data       = dataset\n",
    "        self.embed_dims = embed_dims\n",
    "        self.batch_size = batch_size\n",
    "        self._session   = None\n",
    "        self._graph     = None\n",
    "        self._is_loaded = False\n",
    "        self._is_built  = False\n",
    "        self._has_probs = False\n",
    "        \n",
    "    def _embedding_nn(self, images, out_dim):\n",
    "        def conv2d_maxpool(inputs, filters, kernel_size=[3,3], padding=\"same\", activation=tf.nn.relu):\n",
    "            l = tf.layers.conv2d(\n",
    "                inputs=inputs,\n",
    "                filters=filters,\n",
    "                kernel_size=kernel_size,\n",
    "                padding=padding,\n",
    "                activation=tf.nn.relu)\n",
    "            return tf.layers.max_pooling2d(l, pool_size=[2, 2], strides=2)\n",
    "        \n",
    "        l = images\n",
    "        l = conv2d_maxpool(l, 16)\n",
    "        l = conv2d_maxpool(l, 32)\n",
    "        l = conv2d_maxpool(l, 64)\n",
    "        l = conv2d_maxpool(l, 128)\n",
    "        l = tf.contrib.layers.flatten(l)\n",
    "        l = tf.layers.dense(l, units=300, activation=tf.nn.relu)\n",
    "        l = tf.layers.dense(l, units=out_dim)\n",
    "        return l\n",
    "    \n",
    "    def load_data(self, data_path, data_size):\n",
    "        self.data.load(data_path, data_size)\n",
    "        self._is_loaded = True\n",
    "\n",
    "    def compute_probs(self):\n",
    "        assert self._is_loaded, \"Model data is not loaded\"        \n",
    "        samples = np.reshape(self.data.train_images, [-1, np.prod(self.data.image_shape)])\n",
    "        self.joint_probs = compute_joint_probabilities(\n",
    "            samples    = samples, \n",
    "            batch_size = self.batch_size)\n",
    "        self._has_probs = True\n",
    "\n",
    "    def build(self):\n",
    "        assert self._has_probs, \"Probs not computed\"\n",
    "        tf.reset_default_graph()\n",
    "        self._graph = tf.Graph()\n",
    "        image_shape = self.data.image_shape\n",
    "        data_size   = self.data.data_size\n",
    "        with self._graph.as_default(), tf.name_scope('embedding'), tf.device('/gpu:0'):\n",
    "            # placeholders\n",
    "            self.images_pl  = tf.placeholder(dtype=tf.float32, shape=[None,]+image_shape, name='images')\n",
    "            self.probs_pl   = tf.placeholder(dtype=tf.float32, shape=self.joint_probs.shape[-2:], name='probs')\n",
    "            self.lr_pl      = tf.placeholder(dtype=tf.float32, name='lr')\n",
    "            # operations\n",
    "            self.embed_op   = self._embedding_nn(self.images_pl, self.embed_dims)\n",
    "            self.loss_op    = tsne_loss(self.probs_pl, self.batch_size, self.embed_dims, self.embed_op)\n",
    "            self.train_op   = tf.train.AdamOptimizer(1e-4).minimize(self.loss_op)\n",
    "            self.init_op    = tf.global_variables_initializer()\n",
    "        self._is_built = True\n",
    "        \n",
    "    def train(self, step_num, learning_rate = 1e-4, log_every=10):\n",
    "        assert self._is_built,  \"Model is not built\"\n",
    "        \n",
    "        if self._session:\n",
    "            self._session.close()\n",
    "        gpu_options   = tf.GPUOptions(per_process_gpu_memory_fraction=self.GpuMemoryFraction)\n",
    "        self._session = tf.Session(graph=self._graph, config=tf.ConfigProto(gpu_options=gpu_options))\n",
    "        self._session.run(self.init_op)\n",
    "            \n",
    "        def get_next_batch(i, bs):\n",
    "            imgs = self.data.train_images[i:i+bs]\n",
    "            i = i + bs\n",
    "            if i >= self.data.data_size:\n",
    "                i = 0\n",
    "            return i, imgs\n",
    "        \n",
    "        try:\n",
    "            losses   = []\n",
    "            i = 0\n",
    "            for step in range(step_num):\n",
    "                pi = i//self.batch_size\n",
    "                i, images = get_next_batch(i, self.batch_size)\n",
    "                _, loss = self._session.run([self.train_op, self.loss_op], feed_dict={\n",
    "                    self.images_pl: images,\n",
    "                    self.probs_pl : self.joint_probs[pi],\n",
    "                    self.lr_pl    : learning_rate,\n",
    "                })\n",
    "                losses.append(loss)\n",
    "                if step % log_every == log_every-1:\n",
    "                    show_losses(losses, step, step_num, 0)\n",
    "        except KeyboardInterrupt:\n",
    "            pass\n",
    "        show_losses(losses, step, step_num, 0)\n",
    "        \n",
    "    def embed_images(self, imgs):\n",
    "        embeds = np.zeros(shape=[self.data.data_size, self.embed_dims])\n",
    "        bs = min(len(imgs), self.batch_size)\n",
    "        for i in range(self.data.data_size//bs):\n",
    "            batch = imgs[i*bs:(i+1)*bs,:]\n",
    "            embeds[i*bs:(i+1)*bs,:] = self._session.run(self.embed_op, feed_dict = {self.images_pl : batch})\n",
    "        return embeds"
   ]
  },
  {
   "cell_type": "markdown",
   "metadata": {},
   "source": [
    "## Test train"
   ]
  },
  {
   "cell_type": "code",
   "execution_count": null,
   "metadata": {},
   "outputs": [
    {
     "data": {
      "image/png": "[encoded data removed]",
      "text/plain": [
       "<matplotlib.figure.Figure at 0x7ffac1d609e8>"
      ]
     },
     "metadata": {},
     "output_type": "display_data"
    }
   ],
   "source": [
    "%%time\n",
    "def test_train_model(step_num, data_size, batch_size, learning_rate, embed_dims):\n",
    "    data = Dataset([64,64,1])\n",
    "    model = EmbeddingModel(data, embed_dims, batch_size)\n",
    "    model.load_data(_dataset_path, data_size)\n",
    "    model.compute_probs()\n",
    "    model.build()\n",
    "    model.train(step_num)\n",
    "    return model\n",
    "\n",
    "if global_run_tests:\n",
    "    _emb_model = test_train_model(step_num=500, data_size=2000, batch_size=1000, learning_rate=1e-4, embed_dims=30)"
   ]
  },
  {
   "cell_type": "markdown",
   "metadata": {},
   "source": [
    "## Test embedding"
   ]
  },
  {
   "cell_type": "code",
   "execution_count": null,
   "metadata": {},
   "outputs": [],
   "source": [
    "%%time\n",
    "def test_embedding(model, num):\n",
    "    assert model, \"Model is not defined\"\n",
    "    database = model.embed_images(model.data.test_images)\n",
    "    print(\"database: \", list(database.shape))\n",
    "    \n",
    "    idx = np.arange(model.data.data_size)\n",
    "    np.random.shuffle(idx)\n",
    "    imgs = model.data.train_images[idx][:num]\n",
    "    targets = model.embed_images(imgs)\n",
    "    print(\"targets: \", list(targets.shape))\n",
    "\n",
    "if global_run_tests:\n",
    "    test_embedding(_emb_model, 32)"
   ]
  },
  {
   "cell_type": "code",
   "execution_count": null,
   "metadata": {},
   "outputs": [],
   "source": []
  }
 ],
 "metadata": {
  "kernelspec": {
   "display_name": "Python 3",
   "language": "python",
   "name": "python3"
  },
  "language_info": {
   "codemirror_mode": {
    "name": "ipython",
    "version": 3
   },
   "file_extension": ".py",
   "mimetype": "text/x-python",
   "name": "python",
   "nbconvert_exporter": "python",
   "pygments_lexer": "ipython3",
   "version": "3.5.2"
  }
 },
 "nbformat": 4,
 "nbformat_minor": 2
}
