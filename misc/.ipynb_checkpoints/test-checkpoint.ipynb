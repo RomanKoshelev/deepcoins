{
 "cells": [
  {
   "cell_type": "code",
   "execution_count": 7,
   "metadata": {},
   "outputs": [
    {
     "name": "stdout",
     "output_type": "stream",
     "text": [
      "None None None\n"
     ]
    }
   ],
   "source": [
    "import pickle\n",
    "import os\n",
    "dic = { \"lion\": \"yellow\", \"kitty\": \"red\" }\n",
    "arr = [1,2,3]\n",
    "var = 8.2\n",
    "\n",
    "state = [dic,arr,var]\n",
    "\n",
    "path = os.path.join(\"/tmp/state.p\")\n",
    "pickle.dump([dic,arr,var], open(path, \"wb\"))\n",
    "dic,arr,var = None, None, None\n",
    "[dic,arr,var] = pickle.load(open(path, \"rb\"))\n",
    "\n",
    "print([dic,arr,var])\n"
   ]
  },
  {
   "cell_type": "code",
   "execution_count": 1,
   "metadata": {},
   "outputs": [
    {
     "data": {
      "text/plain": [
       "784"
      ]
     },
     "execution_count": 1,
     "metadata": {},
     "output_type": "execute_result"
    }
   ],
   "source": [
    "import numpy as np\n",
    "image_shape = [28,28,1]\n",
    "image_size = np.prod(image_shape)\n",
    "image_size"
   ]
  },
  {
   "cell_type": "code",
   "execution_count": 48,
   "metadata": {},
   "outputs": [
    {
     "name": "stdout",
     "output_type": "stream",
     "text": [
      "len(batches) 4\n",
      "len(b) 30\n",
      "len(b) 30\n",
      "len(b) 30\n",
      "len(b) 10\n"
     ]
    }
   ],
   "source": [
    "import itertools\n",
    "num = 10\n",
    "pairs = np.asarray(list(itertools.product(range(num), range(num))))\n",
    "\n",
    "def make_batches(arr, bs):\n",
    "    batches = []\n",
    "    for i in range(0, len(arr), bs):\n",
    "        batches.append(arr[i:i+bs])\n",
    "    return batches\n",
    "\n",
    "bs = 30\n",
    "batches = make_batches(pairs, bs)\n",
    "\n",
    "print(\"len(batches)\", len(batches))\n",
    "\n",
    "s = 0\n",
    "for b in batches:\n",
    "    print(\"len(b)\", len(b))\n"
   ]
  },
  {
   "cell_type": "code",
   "execution_count": 3,
   "metadata": {},
   "outputs": [
    {
     "name": "stdout",
     "output_type": "stream",
     "text": [
      "1e-05\n",
      "0.333\n"
     ]
    }
   ],
   "source": [
    "\n",
    "lr_dict = {1.0:1e-4, 0.06:3e-5, 0.03:1e-5, 0.005:3e-6}\n",
    "losses  = [0.007]*200\n",
    "#lr_dict = {1:1, 2:2, 3:3, 4:4}\n",
    "\n",
    "def make_lr(lr, losses, mean_win):\n",
    "    def losses_to_lr(lr_dict, _losses, mean_win):\n",
    "        def running_mean(x, N):\n",
    "            cumsum = np.cumsum(np.insert(x, 0, 0)) \n",
    "            return (cumsum[N:] - cumsum[:-N]) / N\n",
    "        first_key = sorted(lr_dict.keys())[-1]\n",
    "        if(len(_losses) > mean_win):        \n",
    "            loss = running_mean(_losses, mean_win)[-1]\n",
    "        else:\n",
    "            return lr_dict[first_key]\n",
    "        for k,v in sorted(lr_dict.items()):\n",
    "            if loss<k:\n",
    "                return lr_dict[k]\n",
    "        return lr_dict[first_key]\n",
    "    \n",
    "    if type(lr) is dict:\n",
    "        return losses_to_lr(lr, losses, mean_win)\n",
    "    elif type(lr) is float:\n",
    "        return lr\n",
    "    else:\n",
    "        raise RuntimeError(\"wrong lr type\")\n",
    "    \n",
    "    \n",
    "lr = make_lr(lr_dict, losses, 100)\n",
    "print(lr)\n",
    "\n",
    "lr = make_lr(.333, losses, 100)\n",
    "print(lr)\n",
    "\n"
   ]
  },
  {
   "cell_type": "code",
   "execution_count": null,
   "metadata": {},
   "outputs": [],
   "source": []
  }
 ],
 "metadata": {
  "kernelspec": {
   "display_name": "Python 3",
   "language": "python",
   "name": "python3"
  },
  "language_info": {
   "codemirror_mode": {
    "name": "ipython",
    "version": 3
   },
   "file_extension": ".py",
   "mimetype": "text/x-python",
   "name": "python",
   "nbconvert_exporter": "python",
   "pygments_lexer": "ipython3",
   "version": "3.5.2"
  }
 },
 "nbformat": 4,
 "nbformat_minor": 2
}
