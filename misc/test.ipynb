{
 "cells": [
  {
   "cell_type": "code",
   "execution_count": 5,
   "metadata": {},
   "outputs": [
    {
     "name": "stdout",
     "output_type": "stream",
     "text": [
      "[ 1.  2.  3.  1.  2.  3.  1.  2.  3.]\n",
      "[-1.         -1.         -1.          2.50976562  2.50976562  2.50976562\n",
      "  3.          3.          3.        ]\n",
      "--------------------\n",
      "[[ 2.          3.          4.        ]\n",
      " [ 1.50976562  0.50976562  0.49023438]\n",
      " [ 2.          1.          0.        ]]\n",
      "[0 2 2]\n",
      "[ 1.  0.  1.]\n",
      "0.666667\n"
     ]
    }
   ],
   "source": [
    "import tensorflow as tf\n",
    "import numpy as np\n",
    "tf.reset_default_graph()\n",
    "graph = tf.Graph()\n",
    "batch_size = 1\n",
    "emb_shape = []\n",
    "sess = tf.Session(graph=graph)\n",
    "\n",
    "def line(): print('-'*20)\n",
    "\n",
    "def show(t):\n",
    "    t = sess.run(t)\n",
    "    print(t)\n",
    "\n",
    "def tile(v, m):\n",
    "    vv = tf.tile(v, m)\n",
    "    vv = tf.reshape(vv, [bs,bs,-1])\n",
    "    return vv\n",
    "\n",
    "ethalons = np.asarray([[1],[2],[3]])\n",
    "request  = np.asarray([[-1],[2.51],[3]])\n",
    "\n",
    "bs = ethalons.shape[0]\n",
    "\n",
    "with graph.as_default():\n",
    "    e0 = tf.constant(ethalons, dtype=tf.float16)\n",
    "    e1 = tf.constant(request,  dtype=tf.float16)\n",
    "    e0 = tile(e0, [bs,1])\n",
    "    e1 = tile(e1, [1,bs])\n",
    "\n",
    "    e0 = tf.reshape(e0, [-1])\n",
    "    e1 = tf.reshape(e1, [-1])\n",
    "    \n",
    "    d = tf.sqrt((e1 - e0)**2)\n",
    "    d = tf.reshape(d, [bs, bs, -1])\n",
    "    d = tf.reduce_sum(d, axis=2)\n",
    "    r = tf.argmin(d, 1)\n",
    "    l = np.linspace(0,bs-1,bs)\n",
    "    q = tf.cast(tf.equal(r,l), dtype=tf.float32)\n",
    "    acc = tf.reduce_mean(q)\n",
    "    sess.run(tf.global_variables_initializer())\n",
    "    \n",
    "    \n",
    "#show(d1)\n",
    "#show(r1)\n",
    "#print('-'*20)\n",
    "show(e0)\n",
    "show(e1)\n",
    "line()\n",
    "show(d)\n",
    "show(r)\n",
    "show(q)\n",
    "show(acc)\n"
   ]
  },
  {
   "cell_type": "code",
   "execution_count": null,
   "metadata": {},
   "outputs": [],
   "source": []
  },
  {
   "cell_type": "code",
   "execution_count": null,
   "metadata": {},
   "outputs": [],
   "source": []
  }
 ],
 "metadata": {
  "kernelspec": {
   "display_name": "Python 3",
   "language": "python",
   "name": "python3"
  },
  "language_info": {
   "codemirror_mode": {
    "name": "ipython",
    "version": 3
   },
   "file_extension": ".py",
   "mimetype": "text/x-python",
   "name": "python",
   "nbconvert_exporter": "python",
   "pygments_lexer": "ipython3",
   "version": "3.5.2"
  }
 },
 "nbformat": 4,
 "nbformat_minor": 2
}
