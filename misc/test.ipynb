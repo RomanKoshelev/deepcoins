{
 "cells": [
  {
   "cell_type": "code",
   "execution_count": 8,
   "metadata": {},
   "outputs": [
    {
     "data": {
      "text/plain": [
       "784"
      ]
     },
     "execution_count": 8,
     "metadata": {},
     "output_type": "execute_result"
    }
   ],
   "source": [
    "import numpy as np\n",
    "image_shape = [28,28,1]\n",
    "image_size = np.prod(image_shape)\n",
    "image_size"
   ]
  },
  {
   "cell_type": "code",
   "execution_count": 48,
   "metadata": {},
   "outputs": [
    {
     "name": "stdout",
     "output_type": "stream",
     "text": [
      "len(batches) 4\n",
      "len(b) 30\n",
      "len(b) 30\n",
      "len(b) 30\n",
      "len(b) 10\n"
     ]
    }
   ],
   "source": [
    "import itertools\n",
    "num = 10\n",
    "pairs = np.asarray(list(itertools.product(range(num), range(num))))\n",
    "\n",
    "def make_batches(arr, bs):\n",
    "    batches = []\n",
    "    for i in range(0, len(arr), bs):\n",
    "        batches.append(arr[i:i+bs])\n",
    "    return batches\n",
    "\n",
    "bs = 30\n",
    "batches = make_batches(pairs, bs)\n",
    "\n",
    "print(\"len(batches)\", len(batches))\n",
    "\n",
    "s = 0\n",
    "for b in batches:\n",
    "    print(\"len(b)\", len(b))\n"
   ]
  },
  {
   "cell_type": "code",
   "execution_count": null,
   "metadata": {},
   "outputs": [],
   "source": []
  }
 ],
 "metadata": {
  "kernelspec": {
   "display_name": "Python 3",
   "language": "python",
   "name": "python3"
  },
  "language_info": {
   "codemirror_mode": {
    "name": "ipython",
    "version": 3
   },
   "file_extension": ".py",
   "mimetype": "text/x-python",
   "name": "python",
   "nbconvert_exporter": "python",
   "pygments_lexer": "ipython3",
   "version": "3.5.2"
  }
 },
 "nbformat": 4,
 "nbformat_minor": 2
}
