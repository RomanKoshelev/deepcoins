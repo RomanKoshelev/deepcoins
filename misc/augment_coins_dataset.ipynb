{
 "cells": [
  {
   "cell_type": "code",
   "execution_count": null,
   "metadata": {},
   "outputs": [],
   "source": [
    "# https://github.com/despoisj/CoinsDataset\n",
    "\n",
    "import os\n",
    "import cv2\n",
    "import numpy as np\n",
    "from random import shuffle\n",
    "import h5py\n",
    "\n",
    "imageSize = 128\n",
    "\n",
    "\n",
    "# Generates 4 flips of the images\n",
    "def flip():\n",
    "    files = [file for file in os.listdir(\"images\") if file.endswith(\".png\") or file.endswith(\".jpg\")]\n",
    "\n",
    "    for i, file in enumerate(files):\n",
    "        print(\"Flipping file {}/{}\".format(i, len(files)))\n",
    "\n",
    "        img = cv2.imread(\"images/\" + file, -1)\n",
    "        rflip = cv2.flip(img, 1)\n",
    "        vflip = cv2.flip(img, 0)\n",
    "        rvflip = cv2.flip(rflip, 0)\n",
    "\n",
    "        cv2.imwrite(\"flipped/\" + file[:-4] + \"_.png\", img)\n",
    "        cv2.imwrite(\"flipped/\" + file[:-4] + \"_r.png\", rflip)\n",
    "        cv2.imwrite(\"flipped/\" + file[:-4] + \"_v.png\", vflip)\n",
    "        cv2.imwrite(\"flipped/\" + file[:-4] + \"_rv.png\", rvflip)\n",
    "\n",
    "\n",
    "# Generates 2 rotations of the images\n",
    "def rotate():\n",
    "    files = [file for file in os.listdir(\"flipped\") if file.endswith(\".png\") or file.endswith(\".jpg\")]\n",
    "\n",
    "    # 2 rotations * 4 flips = 8 possibilites\n",
    "    for index, file in enumerate(files):\n",
    "        print(\"Rotating file {}/{}\".format(index, len(files)))\n",
    "        img = cv2.imread(\"flipped/\" + file, -1)\n",
    "        cv2.imwrite(\"rotated/\" + file[:-4] + \"_0.png\", img)\n",
    "        img = np.rotate(90(img)\n",
    "        cv2.imwrite(\"rotated/\" + file[:-4] + \"_90.png\", img)"
   ]
  }
 ],
 "metadata": {
  "kernelspec": {
   "display_name": "Python 3",
   "language": "python",
   "name": "python3"
  },
  "language_info": {
   "codemirror_mode": {
    "name": "ipython",
    "version": 3
   },
   "file_extension": ".py",
   "mimetype": "text/x-python",
   "name": "python",
   "nbconvert_exporter": "python",
   "pygments_lexer": "ipython3",
   "version": "3.5.2"
  }
 },
 "nbformat": 4,
 "nbformat_minor": 2
}
