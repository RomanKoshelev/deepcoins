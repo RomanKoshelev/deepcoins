{
 "cells": [
  {
   "cell_type": "markdown",
   "metadata": {},
   "source": [
    "# Embedding model"
   ]
  },
  {
   "cell_type": "code",
   "execution_count": 1,
   "metadata": {},
   "outputs": [],
   "source": [
    "import tensorflow as tf\n",
    "import numpy as np\n",
    "from scipy import spatial\n",
    "\n",
    "try:\n",
    "    if global_run_tests:\n",
    "        pass\n",
    "except:\n",
    "    global_run_tests = True\n",
    "_embmod_grt = global_run_tests\n",
    "global_run_tests = False\n",
    "\n",
    "%run dataset.ipynb\n",
    "%run visualisation.ipynb\n",
    "%run augmentator.ipynb\n",
    "\n",
    "global_run_tests = _embmod_grt\n",
    "\n",
    "_embed_model = None\n",
    "_database    = None"
   ]
  },
  {
   "cell_type": "code",
   "execution_count": 8,
   "metadata": {},
   "outputs": [],
   "source": [
    "class EmbeddingModel():\n",
    "    GpuMemoryFraction = 1.\n",
    "    \n",
    "    def __init__(self, dataset, augmentator, embed_dims):\n",
    "        self.data       = dataset\n",
    "        self._aug       = augmentator\n",
    "        self.embed_dims = embed_dims\n",
    "        self._session   = None\n",
    "        self._graph     = None\n",
    "        self._is_loaded = False\n",
    "        self._is_built  = False\n",
    "        self._has_probs = False\n",
    "        \n",
    "    def _embedding_nn(self, images, out_dim):\n",
    "        def conv2d_maxpool(inputs, filters, kernel_size=[3,3], padding=\"same\", activation=tf.nn.relu):\n",
    "            l = tf.layers.conv2d(\n",
    "                inputs=inputs,\n",
    "                filters=filters,\n",
    "                kernel_size=kernel_size,\n",
    "                padding=padding,\n",
    "                activation=tf.nn.relu)\n",
    "            return tf.layers.max_pooling2d(l, pool_size=[2, 2], strides=2)\n",
    "        \n",
    "        l = images\n",
    "        l = conv2d_maxpool(l, 4)\n",
    "        l = conv2d_maxpool(l, 8)\n",
    "        l = conv2d_maxpool(l, 10)\n",
    "        l = conv2d_maxpool(l, 16)\n",
    "        l = tf.contrib.layers.flatten(l)\n",
    "        l = tf.layers.dense(l, units=300, activation=tf.nn.relu)\n",
    "        l = tf.layers.dense(l, units=out_dim)\n",
    "        return l\n",
    "\n",
    "    def tsne_loss(self, P, batch_size, dims, activations):\n",
    "        d = dims\n",
    "        n = batch_size\n",
    "        v = d - 1.\n",
    "\n",
    "        eps = 10e-15\n",
    "        sum_act = tf.reduce_sum(tf.square(activations), axis=1)\n",
    "        Q = tf.reshape(sum_act, [-1, 1]) + -2 * tf.matmul(activations, activations, transpose_b=True)\n",
    "        Q = (sum_act + Q) / v\n",
    "        Q = tf.pow(1 + Q, -(v + 1) / 2)\n",
    "        Q *= (1 - tf.eye(n))\n",
    "        Q /= tf.reduce_sum(Q)\n",
    "        Q = tf.maximum(Q, eps)\n",
    "        C = tf.log((P + eps) / (Q + eps))\n",
    "        C = tf.reduce_mean(P * C) * 1e7\n",
    "        return C\n",
    "\n",
    "    def build(self, joint_similarity):\n",
    "        assert self.data.data_size>0, \"Model data is not loaded\"\n",
    "        tf.reset_default_graph()\n",
    "        self._graph = tf.Graph()\n",
    "        image_shape = self.data.image_shape\n",
    "        data_size   = self.data.data_size\n",
    "        self.joint_similarity = joint_similarity\n",
    "        with self._graph.as_default(), tf.name_scope('embedding'), tf.device('/gpu:0'):\n",
    "            # placeholders\n",
    "            self.images_pl  = tf.placeholder(dtype=tf.float32, shape=[None,]+image_shape, name='images')\n",
    "            self.sim_pl     = tf.placeholder(dtype=tf.float32, shape=self.joint_similarity.shape, name='sim')\n",
    "            self.lr_pl      = tf.placeholder(dtype=tf.float32, name='lr')\n",
    "            # operations\n",
    "            self.embed_op   = self._embedding_nn(self.images_pl, self.embed_dims)\n",
    "            self.loss_op    = self.tsne_loss(self.sim_pl, data_size, self.embed_dims, self.embed_op)\n",
    "            self.train_op   = tf.train.AdamOptimizer(1e-4).minimize(self.loss_op)\n",
    "            self.init_op    = tf.global_variables_initializer()\n",
    "            \n",
    "        gpu_options   = tf.GPUOptions(per_process_gpu_memory_fraction=self.GpuMemoryFraction)\n",
    "        self._session = tf.Session(graph=self._graph, config=tf.ConfigProto(gpu_options=gpu_options))\n",
    "        self._session.run(self.init_op)\n",
    "            \n",
    "        self._is_built = True\n",
    "        \n",
    "    def train(self, step_num, learning_rate = 1e-4, log_every=1):\n",
    "        assert self._is_built, \"Model is not built\"\n",
    "            \n",
    "        def augment(imgs):\n",
    "            augmented = np.zeros_like(imgs)\n",
    "            for i in range(len(imgs)):\n",
    "                augmented[i] = self._aug.augment(imgs[i])\n",
    "            return augmented\n",
    "                \n",
    "        try:\n",
    "            losses = []\n",
    "            for step in range(step_num):\n",
    "                _, loss = self._session.run([self.train_op, self.loss_op], feed_dict={\n",
    "                    self.images_pl: augment(self.data.train_images),\n",
    "                    self.sim_pl   : self.joint_similarity,\n",
    "                    self.lr_pl    : learning_rate,\n",
    "                })\n",
    "                losses.append(loss)\n",
    "                if step % log_every == log_every-1:\n",
    "                    show_losses(losses, step, step_num, 0)\n",
    "        except KeyboardInterrupt:\n",
    "            pass\n",
    "        show_losses(losses, step, step_num, mean_win=0)\n",
    "        \n",
    "    def embed_images(self, imgs, batch_size, batch_size=100):\n",
    "        embeds = np.zeros(shape=[len(imgs), self.embed_dims])\n",
    "        bs = min(len(imgs), batch_size)\n",
    "        for i in range(len(imgs)//bs):\n",
    "            batch = imgs[i*bs:(i+1)*bs,:]\n",
    "            embeds[i*bs:(i+1)*bs,:] = self._session.run(self.embed_op, feed_dict = {self.images_pl : batch})\n",
    "        return embeds"
   ]
  },
  {
   "cell_type": "markdown",
   "metadata": {},
   "source": [
    "## Test train"
   ]
  },
  {
   "cell_type": "code",
   "execution_count": null,
   "metadata": {},
   "outputs": [],
   "source": [
    "def create_model(image_shape, embed_dims, aug_num):\n",
    "    joint_similarity = np.load(\"data/joint_similarity.npy\")\n",
    "    plt.imshow(joint_similarity**.1, cmap='gray')\n",
    "    plt.show()\n",
    "    \n",
    "    data_size  = len(joint_similarity)\n",
    "    batch_size = data_size\n",
    "    \n",
    "    data = Dataset(image_shape)\n",
    "    data.load(_dataset_path, data_size)\n",
    "    aug  = Augmentator(cache_size = aug_num)\n",
    "    \n",
    "    model = EmbeddingModel(data, aug, embed_dims)\n",
    "    model.build(joint_similarity)\n",
    "    return model"
   ]
  },
  {
   "cell_type": "code",
   "execution_count": 9,
   "metadata": {},
   "outputs": [
    {
     "data": {
      "image/png": "[encoded data removed]",
      "text/plain": [
       "<matplotlib.figure.Figure at 0x7f157b345518>"
      ]
     },
     "metadata": {},
     "output_type": "display_data"
    },
    {
     "name": "stdout",
     "output_type": "stream",
     "text": [
      "CPU times: user 44min 12s, sys: 5min 57s, total: 50min 9s\n",
      "Wall time: 49min 28s\n"
     ]
    }
   ],
   "source": [
    "%%time\n",
    "def test_train_model(image_shape, step_num, learning_rate, embed_dims, aug_num):\n",
    "    model = create_emb_model(image_shape, embed_dims, aug_num)\n",
    "    model.train(step_num, learning_rate)\n",
    "    return model\n",
    "\n",
    "if global_run_tests:\n",
    "    _emb_model = test_train_model(\n",
    "        image_shape   = [128,128,1],\n",
    "        step_num      = 10000, \n",
    "        learning_rate = 1e-4,\n",
    "        embed_dims    = 100,\n",
    "        aug_num       = 100)"
   ]
  },
  {
   "cell_type": "code",
   "execution_count": 25,
   "metadata": {},
   "outputs": [
    {
     "name": "stdout",
     "output_type": "stream",
     "text": [
      "CPU times: user 0 ns, sys: 0 ns, total: 0 ns\n",
      "Wall time: 19.3 µs\n"
     ]
    }
   ],
   "source": [
    "%%time\n",
    "def save_model(model, path):\n",
    "    pass\n",
    "    # saver = tf.train.Saver()\n",
    "    # saver.save(model._session, path)\n",
    "\n",
    "def restore_model(image_shape, embed_dims, aug_num, model_path):\n",
    "    model = create_model(image_shape, embed_dims, aug_num)\n",
    "    saver = tf.train.Saver(var_list=tf.get_collection(key=tf.GraphKeys.GLOBAL_VARIABLES))\n",
    "    saver.restore(model._session, path)\n",
    "    \n",
    "if global_run_tests:\n",
    "    save_model(_emb_model, \"data/embedding_model.ckpt\")"
   ]
  },
  {
   "cell_type": "markdown",
   "metadata": {},
   "source": [
    "## Test embedding"
   ]
  },
  {
   "cell_type": "code",
   "execution_count": 105,
   "metadata": {},
   "outputs": [
    {
     "name": "stdout",
     "output_type": "stream",
     "text": [
      "Augmentation: 1000 / 1000\n",
      "Embedding ...\n",
      "Building KDTree ...\n",
      "aug num   : 10\n",
      "aug rate  : 1.0\n",
      "images    : [1000, 128, 128, 1]\n",
      "embeddings: [10000, 100]\n",
      "indecies  : [10000]\n",
      "CPU times: user 1min 23s, sys: 1.26 s, total: 1min 25s\n",
      "Wall time: 1min 23s\n"
     ]
    }
   ],
   "source": [
    "%%time\n",
    "def test_build_database(model, images, aug_num, aug_rate):\n",
    "    assert model, \"Model is not defined\"\n",
    "    augment         = Augmentator().augment\n",
    "    data_size       = len(images)\n",
    "    database_images = np.repeat(images, aug_num, axis=0)\n",
    "    indecies = np.repeat(np.arange(data_size), aug_num, axis=0)\n",
    "    for i in range(len(database_images)):\n",
    "        if i% 10 == 0:\n",
    "            clear_output(True)\n",
    "            print(\"Augmentation: %d / %d\" % (i//aug_num+1, data_size))\n",
    "        database_images[i] = augment(database_images[i], use_cache = False, rate=aug_rate)\n",
    "\n",
    "    print(\"Embedding ...\")\n",
    "    embeddings = model.embed_images(database_images)\n",
    "\n",
    "    print(\"Building KDTree ...\")\n",
    "    tree = spatial.KDTree(embeddings)\n",
    "\n",
    "    print(\"aug num   :\", aug_num)\n",
    "    print(\"aug rate  : %.1f\" % aug_rate)\n",
    "    print(\"images    :\", list(images.shape))\n",
    "    print(\"embeddings:\", list(embeddings.shape))\n",
    "    print(\"indecies  :\", list(indecies.shape))\n",
    "    return images, embeddings, indecies, tree\n",
    "\n",
    "if global_run_tests:\n",
    "    _emb_database = test_build_database(\n",
    "        model    = _emb_model, \n",
    "        images   = _emb_model.data.test_images,\n",
    "        aug_num  = 10,\n",
    "        aug_rate = 1.)"
   ]
  },
  {
   "cell_type": "code",
   "execution_count": null,
   "metadata": {},
   "outputs": [
    {
     "name": "stdout",
     "output_type": "stream",
     "text": [
      "augmentation ...\n",
      "embedding ...\n",
      "searching ...\n"
     ]
    }
   ],
   "source": [
    "%%time\n",
    "def find_nearest(tree, targets):\n",
    "    results = tree.query(targets)\n",
    "    return results[1], results[0]\n",
    "\n",
    "def show_results(targets, nearest, num):\n",
    "    _,h,w,_ = targets.shape\n",
    "    img1 = targets.reshape([num*h,w])\n",
    "    img2 = nearest.reshape([num*h,w])\n",
    "    img1[:,0]   = 0\n",
    "    img2[:,w-1] = 0\n",
    "    sheet = np.concatenate([img1, img2], axis=1)\n",
    "    sheet[np.arange(0,h*num,h)-1,:] = 0\n",
    "    sheet[np.arange(0,h*num,h)+1,:] = 0\n",
    "    cols = 6\n",
    "    show_images(images=sheet, image_shape=[h, 2*w], cols=cols, rows=num//cols)\n",
    "\n",
    "def test_search_images(model, database, images, num, aug_rate):\n",
    "    assert model,    \"Model is not defined\"\n",
    "    assert database, \"Database is not defined\"\n",
    "    \n",
    "    database_img, database_emb, database_idx, tree = database    \n",
    "    augment   = Augmentator().augment\n",
    "    \n",
    "    per = np.arange(len(images))\n",
    "    np.random.shuffle(per)\n",
    "    target_idx = per[:num]\n",
    "    \n",
    "    target_images = np.copy(images[target_idx])\n",
    "\n",
    "    print(\"augmentation ...\")\n",
    "    for i in range(len(target_images)):\n",
    "        target_images[i] = augment(target_images[i], use_cache = False, rate=aug_rate)\n",
    "    \n",
    "    print(\"embedding ...\")\n",
    "    targets_emb = model.embed_images(target_images)\n",
    "\n",
    "    print(\"searching ...\")\n",
    "    nearest_idx, distances = find_nearest(tree, targets_emb)\n",
    "    original_idx   = database_idx[nearest_idx]\n",
    "    nearest_images = database_img[original_idx]\n",
    "    \n",
    "    quality = np.sum(original_idx == target_idx) / len(target_idx) * 100\n",
    "    \n",
    "    print(\"database:\", list(database_emb.shape))\n",
    "    print(\"targets :\", list(targets_emb.shape))\n",
    "    print(\"aug rate: %.1f\" % aug_rate)\n",
    "    print(\"quality : %.1f%%\" % quality)\n",
    "    show_results(target_images, nearest_images, num)\n",
    "\n",
    "if global_run_tests:\n",
    "    test_search_images(\n",
    "        model    = _emb_model, \n",
    "        database = _emb_database,\n",
    "        images   = _emb_model.data.test_images,\n",
    "        aug_rate = .5,\n",
    "        num      = 500)"
   ]
  },
  {
   "cell_type": "code",
   "execution_count": null,
   "metadata": {},
   "outputs": [],
   "source": []
  }
 ],
 "metadata": {
  "kernelspec": {
   "display_name": "Python 3",
   "language": "python",
   "name": "python3"
  },
  "language_info": {
   "codemirror_mode": {
    "name": "ipython",
    "version": 3
   },
   "file_extension": ".py",
   "mimetype": "text/x-python",
   "name": "python",
   "nbconvert_exporter": "python",
   "pygments_lexer": "ipython3",
   "version": "3.5.2"
  }
 },
 "nbformat": 4,
 "nbformat_minor": 2
}
